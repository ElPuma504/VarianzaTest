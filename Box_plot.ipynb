{
  "cells": [
    {
      "cell_type": "markdown",
      "id": "900ea98a-e621-4fdc-9e72-5759a87701c3",
      "metadata": {
        "id": "900ea98a-e621-4fdc-9e72-5759a87701c3"
      },
      "source": [
        "# UNAH\n",
        "## Facultad de Ingenieria\n",
        "## Carrera de Ingenieria en sistemas\n",
        "### Clase: Inteligencia Artificial\n",
        "\n",
        "*Prueba*"
      ]
    },
    {
      "cell_type": "code",
      "execution_count": 56,
      "id": "d89d7223-d7bc-4a2f-b8e2-7777b3abbbc9",
      "metadata": {
        "id": "d89d7223-d7bc-4a2f-b8e2-7777b3abbbc9"
      },
      "outputs": [],
      "source": [
        "import pandas as pd\n",
        "import numpy as np"
      ]
    },
    {
      "cell_type": "markdown",
      "id": "a6101627-a1bb-41ae-9a9c-6597e20ed26b",
      "metadata": {
        "id": "a6101627-a1bb-41ae-9a9c-6597e20ed26b"
      },
      "source": [
        "Segun el siguiente Dataset:"
      ]
    },
    {
      "cell_type": "code",
      "execution_count": 57,
      "id": "129c774e-4da0-4b46-918a-19e51df03fe3",
      "metadata": {
        "id": "129c774e-4da0-4b46-918a-19e51df03fe3"
      },
      "outputs": [],
      "source": [
        "pd_vector = pd.DataFrame( { \"num\" : range(1,101) } )"
      ]
    },
    {
      "cell_type": "code",
      "execution_count": 58,
      "id": "48d3c5b7-be61-4c2f-ada7-d9766b5d82db",
      "metadata": {
        "colab": {
          "base_uri": "https://localhost:8080/",
          "height": 424
        },
        "id": "48d3c5b7-be61-4c2f-ada7-d9766b5d82db",
        "outputId": "bec82aed-1e41-4ba4-b8da-a79a298f8537"
      },
      "outputs": [
        {
          "output_type": "execute_result",
          "data": {
            "text/plain": [
              "    num\n",
              "0     1\n",
              "1     2\n",
              "2     3\n",
              "3     4\n",
              "4     5\n",
              "..  ...\n",
              "95   96\n",
              "96   97\n",
              "97   98\n",
              "98   99\n",
              "99  100\n",
              "\n",
              "[100 rows x 1 columns]"
            ],
            "text/html": [
              "\n",
              "  <div id=\"df-8fa524f1-b292-4bb9-a0bc-5505f40a65e4\">\n",
              "    <div class=\"colab-df-container\">\n",
              "      <div>\n",
              "<style scoped>\n",
              "    .dataframe tbody tr th:only-of-type {\n",
              "        vertical-align: middle;\n",
              "    }\n",
              "\n",
              "    .dataframe tbody tr th {\n",
              "        vertical-align: top;\n",
              "    }\n",
              "\n",
              "    .dataframe thead th {\n",
              "        text-align: right;\n",
              "    }\n",
              "</style>\n",
              "<table border=\"1\" class=\"dataframe\">\n",
              "  <thead>\n",
              "    <tr style=\"text-align: right;\">\n",
              "      <th></th>\n",
              "      <th>num</th>\n",
              "    </tr>\n",
              "  </thead>\n",
              "  <tbody>\n",
              "    <tr>\n",
              "      <th>0</th>\n",
              "      <td>1</td>\n",
              "    </tr>\n",
              "    <tr>\n",
              "      <th>1</th>\n",
              "      <td>2</td>\n",
              "    </tr>\n",
              "    <tr>\n",
              "      <th>2</th>\n",
              "      <td>3</td>\n",
              "    </tr>\n",
              "    <tr>\n",
              "      <th>3</th>\n",
              "      <td>4</td>\n",
              "    </tr>\n",
              "    <tr>\n",
              "      <th>4</th>\n",
              "      <td>5</td>\n",
              "    </tr>\n",
              "    <tr>\n",
              "      <th>...</th>\n",
              "      <td>...</td>\n",
              "    </tr>\n",
              "    <tr>\n",
              "      <th>95</th>\n",
              "      <td>96</td>\n",
              "    </tr>\n",
              "    <tr>\n",
              "      <th>96</th>\n",
              "      <td>97</td>\n",
              "    </tr>\n",
              "    <tr>\n",
              "      <th>97</th>\n",
              "      <td>98</td>\n",
              "    </tr>\n",
              "    <tr>\n",
              "      <th>98</th>\n",
              "      <td>99</td>\n",
              "    </tr>\n",
              "    <tr>\n",
              "      <th>99</th>\n",
              "      <td>100</td>\n",
              "    </tr>\n",
              "  </tbody>\n",
              "</table>\n",
              "<p>100 rows × 1 columns</p>\n",
              "</div>\n",
              "      <button class=\"colab-df-convert\" onclick=\"convertToInteractive('df-8fa524f1-b292-4bb9-a0bc-5505f40a65e4')\"\n",
              "              title=\"Convert this dataframe to an interactive table.\"\n",
              "              style=\"display:none;\">\n",
              "        \n",
              "  <svg xmlns=\"http://www.w3.org/2000/svg\" height=\"24px\"viewBox=\"0 0 24 24\"\n",
              "       width=\"24px\">\n",
              "    <path d=\"M0 0h24v24H0V0z\" fill=\"none\"/>\n",
              "    <path d=\"M18.56 5.44l.94 2.06.94-2.06 2.06-.94-2.06-.94-.94-2.06-.94 2.06-2.06.94zm-11 1L8.5 8.5l.94-2.06 2.06-.94-2.06-.94L8.5 2.5l-.94 2.06-2.06.94zm10 10l.94 2.06.94-2.06 2.06-.94-2.06-.94-.94-2.06-.94 2.06-2.06.94z\"/><path d=\"M17.41 7.96l-1.37-1.37c-.4-.4-.92-.59-1.43-.59-.52 0-1.04.2-1.43.59L10.3 9.45l-7.72 7.72c-.78.78-.78 2.05 0 2.83L4 21.41c.39.39.9.59 1.41.59.51 0 1.02-.2 1.41-.59l7.78-7.78 2.81-2.81c.8-.78.8-2.07 0-2.86zM5.41 20L4 18.59l7.72-7.72 1.47 1.35L5.41 20z\"/>\n",
              "  </svg>\n",
              "      </button>\n",
              "      \n",
              "  <style>\n",
              "    .colab-df-container {\n",
              "      display:flex;\n",
              "      flex-wrap:wrap;\n",
              "      gap: 12px;\n",
              "    }\n",
              "\n",
              "    .colab-df-convert {\n",
              "      background-color: #E8F0FE;\n",
              "      border: none;\n",
              "      border-radius: 50%;\n",
              "      cursor: pointer;\n",
              "      display: none;\n",
              "      fill: #1967D2;\n",
              "      height: 32px;\n",
              "      padding: 0 0 0 0;\n",
              "      width: 32px;\n",
              "    }\n",
              "\n",
              "    .colab-df-convert:hover {\n",
              "      background-color: #E2EBFA;\n",
              "      box-shadow: 0px 1px 2px rgba(60, 64, 67, 0.3), 0px 1px 3px 1px rgba(60, 64, 67, 0.15);\n",
              "      fill: #174EA6;\n",
              "    }\n",
              "\n",
              "    [theme=dark] .colab-df-convert {\n",
              "      background-color: #3B4455;\n",
              "      fill: #D2E3FC;\n",
              "    }\n",
              "\n",
              "    [theme=dark] .colab-df-convert:hover {\n",
              "      background-color: #434B5C;\n",
              "      box-shadow: 0px 1px 3px 1px rgba(0, 0, 0, 0.15);\n",
              "      filter: drop-shadow(0px 1px 2px rgba(0, 0, 0, 0.3));\n",
              "      fill: #FFFFFF;\n",
              "    }\n",
              "  </style>\n",
              "\n",
              "      <script>\n",
              "        const buttonEl =\n",
              "          document.querySelector('#df-8fa524f1-b292-4bb9-a0bc-5505f40a65e4 button.colab-df-convert');\n",
              "        buttonEl.style.display =\n",
              "          google.colab.kernel.accessAllowed ? 'block' : 'none';\n",
              "\n",
              "        async function convertToInteractive(key) {\n",
              "          const element = document.querySelector('#df-8fa524f1-b292-4bb9-a0bc-5505f40a65e4');\n",
              "          const dataTable =\n",
              "            await google.colab.kernel.invokeFunction('convertToInteractive',\n",
              "                                                     [key], {});\n",
              "          if (!dataTable) return;\n",
              "\n",
              "          const docLinkHtml = 'Like what you see? Visit the ' +\n",
              "            '<a target=\"_blank\" href=https://colab.research.google.com/notebooks/data_table.ipynb>data table notebook</a>'\n",
              "            + ' to learn more about interactive tables.';\n",
              "          element.innerHTML = '';\n",
              "          dataTable['output_type'] = 'display_data';\n",
              "          await google.colab.output.renderOutput(dataTable, element);\n",
              "          const docLink = document.createElement('div');\n",
              "          docLink.innerHTML = docLinkHtml;\n",
              "          element.appendChild(docLink);\n",
              "        }\n",
              "      </script>\n",
              "    </div>\n",
              "  </div>\n",
              "  "
            ]
          },
          "metadata": {},
          "execution_count": 58
        }
      ],
      "source": [
        "pd_vector"
      ]
    },
    {
      "cell_type": "markdown",
      "id": "68d2dfb1-9c1f-4116-89c5-05e2171c7018",
      "metadata": {
        "id": "68d2dfb1-9c1f-4116-89c5-05e2171c7018"
      },
      "source": [
        "Y segun los siguientes metodos de numpy"
      ]
    },
    {
      "cell_type": "code",
      "execution_count": 59,
      "id": "81d3dd14-6205-421a-9cf9-031027c6a213",
      "metadata": {
        "colab": {
          "base_uri": "https://localhost:8080/"
        },
        "id": "81d3dd14-6205-421a-9cf9-031027c6a213",
        "outputId": "cc2ee9d0-a4a7-46c7-bbb0-04dfa0563ee8"
      },
      "outputs": [
        {
          "output_type": "execute_result",
          "data": {
            "text/plain": [
              "833.25"
            ]
          },
          "metadata": {},
          "execution_count": 59
        }
      ],
      "source": [
        "np.var( pd_vector[\"num\"] ) ## Calcula la varianza"
      ]
    },
    {
      "cell_type": "code",
      "execution_count": 60,
      "id": "4b17ddd3-044d-4328-9f34-03bde615cc7a",
      "metadata": {
        "colab": {
          "base_uri": "https://localhost:8080/"
        },
        "id": "4b17ddd3-044d-4328-9f34-03bde615cc7a",
        "outputId": "f1555733-0c27-45e9-f232-b2b53e3ce2f9"
      },
      "outputs": [
        {
          "output_type": "execute_result",
          "data": {
            "text/plain": [
              "28.86607004772212"
            ]
          },
          "metadata": {},
          "execution_count": 60
        }
      ],
      "source": [
        "np.std( pd_vector[\"num\"] ) ## Calcula la desviacion estandard"
      ]
    },
    {
      "cell_type": "markdown",
      "id": "b0db84f8-c351-41db-b981-336b6738b19b",
      "metadata": {
        "id": "b0db84f8-c351-41db-b981-336b6738b19b"
      },
      "source": [
        "## Responda las siguientes ejercicios"
      ]
    },
    {
      "cell_type": "markdown",
      "id": "5d99d524-4a87-4fbf-a2b8-436a6cb4ddcd",
      "metadata": {
        "id": "5d99d524-4a87-4fbf-a2b8-436a6cb4ddcd"
      },
      "source": [
        "1. Grafique el Boxplot del vector \"num\""
      ]
    },
    {
      "cell_type": "code",
      "execution_count": 61,
      "id": "f36238bb-56d3-4bdb-9108-bb652a2c2f9c",
      "metadata": {
        "colab": {
          "base_uri": "https://localhost:8080/",
          "height": 282
        },
        "id": "f36238bb-56d3-4bdb-9108-bb652a2c2f9c",
        "outputId": "c17a7747-0b70-4371-9a37-0cfa2757ed11"
      },
      "outputs": [
        {
          "output_type": "execute_result",
          "data": {
            "text/plain": [
              "<matplotlib.axes._subplots.AxesSubplot at 0x7f9ccf818610>"
            ]
          },
          "metadata": {},
          "execution_count": 61
        },
        {
          "output_type": "display_data",
          "data": {
            "text/plain": [
              "<Figure size 432x288 with 1 Axes>"
            ],
            "image/png": "[encoded data removed]"
          },
          "metadata": {
            "needs_background": "light"
          }
        }
      ],
      "source": [
        "pd_vector.boxplot()"
      ]
    },
    {
      "cell_type": "markdown",
      "id": "c3011ce8-15f1-4b3b-b7ab-44172bf7c8a2",
      "metadata": {
        "id": "c3011ce8-15f1-4b3b-b7ab-44172bf7c8a2"
      },
      "source": [
        "2. Calcule la varianza y desviacion estandard de cada uno de los quartiles\n",
        "\n",
        "Nota: realice manual la divicion del dataset para obtener cada uno de quartiles, al final obtendra cuatro dataframes"
      ]
    },
    {
      "cell_type": "code",
      "execution_count": 62,
      "id": "8b18a52f-71b7-4760-81c3-7728e69613ce",
      "metadata": {
        "id": "8b18a52f-71b7-4760-81c3-7728e69613ce",
        "colab": {
          "base_uri": "https://localhost:8080/"
        },
        "outputId": "eef6b4a5-f76b-41c8-9a7b-c78d2922e8eb"
      },
      "outputs": [
        {
          "output_type": "stream",
          "name": "stdout",
          "text": [
            "Varianza 1:  54.166666666666664\n",
            "Varianza 2:  54.166666666666664\n",
            "Varianza 3:  54.166666666666664\n",
            "Varianza 4:  54.166666666666664\n",
            "Desviación  1:  7.359800721939872\n",
            "Desviación  2:  7.359800721939872\n",
            "Desviación  3:  7.359800721939872\n",
            "Desviación  4:  7.359800721939872\n"
          ]
        }
      ],
      "source": [
        "datas1 = pd_vector.loc[0:24]\n",
        "datas2 = pd_vector.loc[25:49]\n",
        "datas3 = pd_vector.loc[50:74]\n",
        "datas4 = pd_vector.loc[75:100]\n",
        "\n",
        "q1 = np.quantile(datas1,0.25)\n",
        "q2 = np.quantile(datas2,0.5)\n",
        "q3 = np.quantile(datas3,0.75)\n",
        "q4 = np.quantile(datas4,1)\n",
        "q1,q2,q3,q4\n",
        "\n",
        "\n",
        "std_1 = datas1.loc[:,['num']].std()\n",
        "std_2 = datas2.loc[:,['num']].std()\n",
        "std_3 = datas3.loc[:,['num']].std()\n",
        "std_4 = datas4.loc[:,['num']].std()\n",
        "\n",
        "var_1 = datas1.loc[:,'num'].var()\n",
        "var_2 = datas2.loc[:,'num'].var()\n",
        "var_3 = datas3.loc[:,'num'].var()\n",
        "var_4 = datas4.loc[:,'num'].var()\n",
        "\n",
        "print('Varianza 1: ',var_1)\n",
        "print('Varianza 2: ',var_2)\n",
        "print('Varianza 3: ',var_3)\n",
        "print('Varianza 4: ',var_4)\n",
        "\n",
        "print('Desviación  1: ',std_1['num'])\n",
        "print('Desviación  2: ',std_2['num'])\n",
        "print('Desviación  3: ',std_3['num'])\n",
        "print('Desviación  4: ',std_4['num'])"
      ]
    },
    {
      "cell_type": "markdown",
      "id": "b1aac673-aa4f-40c4-8ae2-364247dcaad1",
      "metadata": {
        "id": "b1aac673-aa4f-40c4-8ae2-364247dcaad1"
      },
      "source": [
        "3. Explique la respuesta que obtuvo en el ejercicio dos, recuerde que se puede apoyar del grafico del ejercicio uno para hacer referencias sobre distribucion en caso de que sea necesario."
      ]
    },
    {
      "cell_type": "markdown",
      "source": [
        "Segun lo antes analizado se observa que tanto la varianza comoo la desviacion reprsentan una serie de igualdad desde Q1 hasta Q4."
      ],
      "metadata": {
        "id": "OTbX1PRlo2WY"
      },
      "id": "OTbX1PRlo2WY"
    },
    {
      "cell_type": "code",
      "execution_count": 62,
      "id": "43df03b0-9a21-44d1-8aba-a337de9ba1a6",
      "metadata": {
        "id": "43df03b0-9a21-44d1-8aba-a337de9ba1a6"
      },
      "outputs": [],
      "source": []
    }
  ],
  "metadata": {
    "kernelspec": {
      "display_name": "Python 3",
      "language": "python",
      "name": "python3"
    },
    "language_info": {
      "codemirror_mode": {
        "name": "ipython",
        "version": 3
      },
      "file_extension": ".py",
      "mimetype": "text/x-python",
      "name": "python",
      "nbconvert_exporter": "python",
      "pygments_lexer": "ipython3",
      "version": "3.8.8"
    },
    "colab": {
      "provenance": [],
      "collapsed_sections": []
    }
  },
  "nbformat": 4,
  "nbformat_minor": 5
}